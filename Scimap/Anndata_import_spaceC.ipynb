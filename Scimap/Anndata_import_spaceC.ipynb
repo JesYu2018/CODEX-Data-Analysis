{
 "cells": [
  {
   "cell_type": "code",
   "execution_count": 1,
   "id": "7b2c6678-052f-4e42-8b5a-626f04fd09ed",
   "metadata": {},
   "outputs": [
    {
     "name": "stdout",
     "output_type": "stream",
     "text": [
      "Running SCIMAP  2.3.4\n"
     ]
    }
   ],
   "source": [
    "import scimap as sm"
   ]
  },
  {
   "cell_type": "code",
   "execution_count": 8,
   "id": "4fd9679c-e385-4a62-88d6-de6220726f9b",
   "metadata": {},
   "outputs": [
    {
     "name": "stdout",
     "output_type": "stream",
     "text": [
      "Index(['Unnamed: 0', 'DAPI', 'SOX2', 'FAP', 'cxcr3', 'LRRC15', 'CD20', 'CD68',\n",
      "       'CD45RO', 'CD31', 'PD-1', 'Ki67', 'Keratin 5', 'CD4', 'IFNG', 'SMA',\n",
      "       'CD66', 'Podoplanin', 'CXCR4', 'PGRN', 'Granzyme B', 'Pan-Cytokeratin',\n",
      "       'MARCO', 'CD56', 'HAS1', 'CD107a', 'b-Catenin1', 'HLA-A', 'HLA-DR',\n",
      "       'CD8', 'PDL1', 'TP63', 'GATA6', 'CD34', 'TCF-1', 'Bcl-2', 'PCNA',\n",
      "       'CLDN18', 'CD3e', 'MCT4', 'LAG3', 'y', 'x', 'eccentricity', 'perimeter',\n",
      "       'convex_area', 'area', 'axis_major_length', 'axis_minor_length',\n",
      "       'label'],\n",
      "      dtype='object')\n"
     ]
    }
   ],
   "source": [
    "import pandas as pd\n",
    "import numpy as np\n",
    "import tifffile as tiff\n",
    "\n",
    "df = pd.read_csv(\"/dss/dsshome1/00/ge65tib2/Scimap/2_4_cellpose_result.csv\")\n",
    "print(df.columns)  # 查看有哪些列\n"
   ]
  },
  {
   "cell_type": "code",
   "execution_count": 9,
   "id": "5633017c-a52b-4b96-9319-60b4527eae39",
   "metadata": {},
   "outputs": [
    {
     "name": "stdout",
     "output_type": "stream",
     "text": [
      "Loading 2_4_cellpose_result.csv\n",
      "Loading 5_5_cellpose_result.csv\n"
     ]
    }
   ],
   "source": [
    "# Provide the path to the single-cell feature table. Note that you can specify multiple paths as a list.\n",
    "feature_table_path = [\"/dss/dsshome1/00/ge65tib2/Scimap/2_4_cellpose_result.csv\"]\n",
    "\n",
    "# create the annData object\n",
    "adata_2_4 = sm.pp.mcmicro_to_scimap(feature_table_path, CellId='Unnamed: 0', split='y')\n",
    "\n",
    "# Provide the path to the single-cell feature table. Note that you can specify multiple paths as a list.\n",
    "feature_table_path_1 = [\"/dss/dsshome1/00/ge65tib2/Scimap/5_5_cellpose_result.csv\"]\n",
    "\n",
    "# create the annData object\n",
    "adata_5_5 = sm.pp.mcmicro_to_scimap(feature_table_path_1, CellId='Unnamed: 0', split='y')"
   ]
  },
  {
   "cell_type": "code",
   "execution_count": 10,
   "id": "fdcde21c-861b-4a2e-8925-c339aaa3003f",
   "metadata": {},
   "outputs": [
    {
     "name": "stdout",
     "output_type": "stream",
     "text": [
      "Min value in X: 0.0\n",
      "NaN count: 0\n",
      "Inf count: 0\n"
     ]
    }
   ],
   "source": [
    "# 查看是否有负值\n",
    "print(\"Min value in X:\", adata_2_4.X.min())\n",
    "\n",
    "# 检查是否有 NaN / Inf\n",
    "print(\"NaN count:\", np.isnan(adata_2_4.X).sum())\n",
    "print(\"Inf count:\", np.isinf(adata_2_4.X).sum())"
   ]
  }
 ],
 "metadata": {
  "kernelspec": {
   "display_name": "scimap",
   "language": "python",
   "name": "myenv"
  },
  "language_info": {
   "codemirror_mode": {
    "name": "ipython",
    "version": 3
   },
   "file_extension": ".py",
   "mimetype": "text/x-python",
   "name": "python",
   "nbconvert_exporter": "python",
   "pygments_lexer": "ipython3",
   "version": "3.10.18"
  }
 },
 "nbformat": 4,
 "nbformat_minor": 5
}
