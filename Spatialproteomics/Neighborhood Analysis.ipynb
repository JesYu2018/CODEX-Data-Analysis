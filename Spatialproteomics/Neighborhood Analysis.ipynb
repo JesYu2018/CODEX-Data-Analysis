{
 "cells": [
  {
   "cell_type": "code",
   "execution_count": 1,
   "id": "841f5b0c-bef6-4004-81f9-cb5acd4a6566",
   "metadata": {},
   "outputs": [],
   "source": [
    "import spatialproteomics as sp\n",
    "import matplotlib.pyplot as plt\n",
    "import xarray as xr\n",
    "import numpy as np\n",
    "import pandas as pd\n",
    "from sklearn.cluster import KMeans\n",
    "import seaborn as sns"
   ]
  },
  {
   "cell_type": "code",
   "execution_count": 2,
   "id": "76bc9895-a994-4efe-9717-0488806fb1c1",
   "metadata": {},
   "outputs": [],
   "source": [
    "ds_2_4 = xr.open_zarr(\"/dss/dsshome1/00/ge65tib2/Spatialproteomics/Data_zarr/2_4_stardist_zscore.zarr\")\n",
    "ds_5_5 = xr.open_zarr(\"/dss/dsshome1/00/ge65tib2/Spatialproteomics/Data_zarr/5_5_stardist_zscore.zarr\")"
   ]
  },
  {
   "cell_type": "code",
   "execution_count": 3,
   "id": "6cf4f519-e59a-453b-ad28-1ece96d5e1d0",
   "metadata": {},
   "outputs": [],
   "source": [
    "sp_dict = {\"1\": ds_2_4, \"2\": ds_5_5}"
   ]
  },
  {
   "cell_type": "code",
   "execution_count": 4,
   "id": "dc9d4f7a-baa4-49b3-9334-a5b100686c93",
   "metadata": {},
   "outputs": [
    {
     "ename": "AssertionError",
     "evalue": "No cell type labels found in the object.",
     "output_type": "error",
     "traceback": [
      "\u001b[0;31m---------------------------------------------------------------------------\u001b[0m",
      "\u001b[0;31mAssertionError\u001b[0m                            Traceback (most recent call last)",
      "Cell \u001b[0;32mIn[4], line 3\u001b[0m\n\u001b[1;32m      1\u001b[0m image_container \u001b[38;5;241m=\u001b[39m sp\u001b[38;5;241m.\u001b[39mImageContainer(sp_dict)\n\u001b[1;32m      2\u001b[0m \u001b[38;5;66;03m# this method returns a dict in the same format as we provided as input\u001b[39;00m\n\u001b[0;32m----> 3\u001b[0m sp_dict \u001b[38;5;241m=\u001b[39m \u001b[43mimage_container\u001b[49m\u001b[38;5;241;43m.\u001b[39;49m\u001b[43mcompute_neighborhoods\u001b[49m\u001b[43m(\u001b[49m\u001b[43m)\u001b[49m\n",
      "File \u001b[0;32m~/miniconda3/envs/spatialproteomics/lib/python3.10/site-packages/spatialproteomics/image_container/ImageContainer.py:94\u001b[0m, in \u001b[0;36mImageContainer.compute_neighborhoods\u001b[0;34m(self, neighborhood_method, radius, knn, k, overwrite, seed)\u001b[0m\n\u001b[1;32m     92\u001b[0m \u001b[38;5;66;03m# computing the neighborhood for each object\u001b[39;00m\n\u001b[1;32m     93\u001b[0m \u001b[38;5;28;01mif\u001b[39;00m neighborhood_method \u001b[38;5;241m==\u001b[39m \u001b[38;5;124m\"\u001b[39m\u001b[38;5;124mradius\u001b[39m\u001b[38;5;124m\"\u001b[39m:\n\u001b[0;32m---> 94\u001b[0m     \u001b[38;5;28mself\u001b[39m\u001b[38;5;241m.\u001b[39mobjects[\u001b[38;5;28mid\u001b[39m] \u001b[38;5;241m=\u001b[39m \u001b[38;5;28;43mself\u001b[39;49m\u001b[38;5;241;43m.\u001b[39;49m\u001b[43mobjects\u001b[49m\u001b[43m[\u001b[49m\u001b[38;5;28;43mid\u001b[39;49m\u001b[43m]\u001b[49m\u001b[38;5;241;43m.\u001b[39;49m\u001b[43mnh\u001b[49m\u001b[38;5;241;43m.\u001b[39;49m\u001b[43mcompute_neighborhoods_radius\u001b[49m\u001b[43m(\u001b[49m\u001b[43mradius\u001b[49m\u001b[38;5;241;43m=\u001b[39;49m\u001b[43mradius\u001b[49m\u001b[43m)\u001b[49m\n\u001b[1;32m     95\u001b[0m \u001b[38;5;28;01melif\u001b[39;00m neighborhood_method \u001b[38;5;241m==\u001b[39m \u001b[38;5;124m\"\u001b[39m\u001b[38;5;124mknn\u001b[39m\u001b[38;5;124m\"\u001b[39m:\n\u001b[1;32m     96\u001b[0m     \u001b[38;5;28mself\u001b[39m\u001b[38;5;241m.\u001b[39mobjects[\u001b[38;5;28mid\u001b[39m] \u001b[38;5;241m=\u001b[39m \u001b[38;5;28mself\u001b[39m\u001b[38;5;241m.\u001b[39mobjects[\u001b[38;5;28mid\u001b[39m]\u001b[38;5;241m.\u001b[39mnh\u001b[38;5;241m.\u001b[39mcompute_neighborhoods_knn(k\u001b[38;5;241m=\u001b[39mknn)\n",
      "File \u001b[0;32m~/miniconda3/envs/spatialproteomics/lib/python3.10/site-packages/spatialproteomics/nh/neighborhood.py:624\u001b[0m, in \u001b[0;36mNeighborhoodAccessor.compute_neighborhoods_radius\u001b[0;34m(self, radius, include_center, key_added, key_adjacency_matrix)\u001b[0m\n\u001b[1;32m    622\u001b[0m \u001b[38;5;28;01massert\u001b[39;00m radius \u001b[38;5;241m>\u001b[39m \u001b[38;5;241m0\u001b[39m, \u001b[38;5;124m\"\u001b[39m\u001b[38;5;124mRadius must be greater than 0.\u001b[39m\u001b[38;5;124m\"\u001b[39m\n\u001b[1;32m    623\u001b[0m \u001b[38;5;28;01massert\u001b[39;00m Layers\u001b[38;5;241m.\u001b[39mOBS \u001b[38;5;129;01min\u001b[39;00m \u001b[38;5;28mself\u001b[39m\u001b[38;5;241m.\u001b[39m_obj, \u001b[38;5;124m\"\u001b[39m\u001b[38;5;124mNo observations found in the object.\u001b[39m\u001b[38;5;124m\"\u001b[39m\n\u001b[0;32m--> 624\u001b[0m \u001b[38;5;28;01massert\u001b[39;00m Features\u001b[38;5;241m.\u001b[39mLABELS \u001b[38;5;129;01min\u001b[39;00m \u001b[38;5;28mself\u001b[39m\u001b[38;5;241m.\u001b[39m_obj\u001b[38;5;241m.\u001b[39mcoords[Dims\u001b[38;5;241m.\u001b[39mFEATURES]\u001b[38;5;241m.\u001b[39mvalues, \u001b[38;5;124m\"\u001b[39m\u001b[38;5;124mNo cell type labels found in the object.\u001b[39m\u001b[38;5;124m\"\u001b[39m\n\u001b[1;32m    625\u001b[0m \u001b[38;5;28;01massert\u001b[39;00m (\n\u001b[1;32m    626\u001b[0m     Layers\u001b[38;5;241m.\u001b[39mADJACENCY_MATRIX \u001b[38;5;129;01mnot\u001b[39;00m \u001b[38;5;129;01min\u001b[39;00m \u001b[38;5;28mself\u001b[39m\u001b[38;5;241m.\u001b[39m_obj\n\u001b[1;32m    627\u001b[0m ), \u001b[38;5;124m\"\u001b[39m\u001b[38;5;124mAdjacency matrix already found in the object. Please remove it first with pp.drop_layers(\u001b[39m\u001b[38;5;124m'\u001b[39m\u001b[38;5;124m_adjacency_matrix\u001b[39m\u001b[38;5;124m'\u001b[39m\u001b[38;5;124m).\u001b[39m\u001b[38;5;124m\"\u001b[39m\n\u001b[1;32m    629\u001b[0m \u001b[38;5;66;03m# here we use the numeric labels in order to keep them synchronized with the rest of the object\u001b[39;00m\n",
      "\u001b[0;31mAssertionError\u001b[0m: No cell type labels found in the object."
     ]
    }
   ],
   "source": [
    "image_container = sp.ImageContainer(sp_dict)\n",
    "# this method returns a dict in the same format as we provided as input\n",
    "sp_dict = image_container.compute_neighborhoods()"
   ]
  },
  {
   "cell_type": "code",
   "execution_count": null,
   "id": "f0734af1-d84d-4778-9a53-13a49169d97f",
   "metadata": {},
   "outputs": [],
   "source": []
  }
 ],
 "metadata": {
  "kernelspec": {
   "display_name": "spatialproteomics",
   "language": "python",
   "name": "spatialproteomics"
  },
  "language_info": {
   "codemirror_mode": {
    "name": "ipython",
    "version": 3
   },
   "file_extension": ".py",
   "mimetype": "text/x-python",
   "name": "python",
   "nbconvert_exporter": "python",
   "pygments_lexer": "ipython3",
   "version": "3.10.18"
  }
 },
 "nbformat": 4,
 "nbformat_minor": 5
}
